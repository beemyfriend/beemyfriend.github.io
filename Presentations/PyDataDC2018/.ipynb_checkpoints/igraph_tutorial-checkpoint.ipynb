{
 "cells": [
  {
   "cell_type": "markdown",
   "metadata": {},
   "source": [
    "# Playing with igraph\n",
    "\n",
    "## 1. Introduction\n",
    "\n",
    "This tutorial will require the **igraph** and **pandas** libraries. You can learn more on how to download **igraph** and **cairo** by going to the [igraph-python tutorial page](http://igraph.org/python/doc/tutorial/install.html) (if you want to plot, then you'll need to download **Cairo** and install **PyCairo**)\n",
    "\n",
    "### Loading Igraph and initiating a graph"
   ]
  },
  {
   "cell_type": "code",
   "execution_count": 1,
   "metadata": {},
   "outputs": [],
   "source": [
    "import igraph"
   ]
  },
  {
   "cell_type": "markdown",
   "metadata": {},
   "source": [
    "## 2. Building a graph"
   ]
  },
  {
   "cell_type": "markdown",
   "metadata": {},
   "source": [
    "### Creating a graph and adding vertices to it"
   ]
  },
  {
   "cell_type": "code",
   "execution_count": 2,
   "metadata": {},
   "outputs": [
    {
     "name": "stdout",
     "output_type": "stream",
     "text": [
      "<class 'igraph.Graph'>\n",
      "Name: Hello World Graph\n",
      "Info: A toy graph for PyData DC 2018\n"
     ]
    }
   ],
   "source": [
    "#Initializing a graph\n",
    "g = igraph.Graph()\n",
    "print(type(g))\n",
    "\n",
    "#Let's give the graph some metadata\n",
    "g['name'] = \"Hello World Graph\"\n",
    "g['info'] = \"A toy graph for PyData DC 2018\"\n",
    "\n",
    "print(\"Name: \" + str(g['name']))\n",
    "print(\"Info: \" + str(g['info']))"
   ]
  },
  {
   "cell_type": "markdown",
   "metadata": {},
   "source": [
    "### Adding vertices to the graph"
   ]
  },
  {
   "cell_type": "code",
   "execution_count": 3,
   "metadata": {},
   "outputs": [
    {
     "name": "stdout",
     "output_type": "stream",
     "text": [
      "<igraph.VertexSeq object at 0x1076519f8>\n",
      "\n",
      "\n"
     ]
    },
    {
     "data": {
      "text/plain": [
       "[igraph.Vertex(<igraph.Graph object at 0x107580d68>, 0, {'name': 'Alice', 'age': 25, 'gender': 'f'}),\n",
       " igraph.Vertex(<igraph.Graph object at 0x107580d68>, 1, {'name': 'Bob', 'age': 31, 'gender': 'm'}),\n",
       " igraph.Vertex(<igraph.Graph object at 0x107580d68>, 2, {'name': 'Claire', 'age': 18, 'gender': 'f'}),\n",
       " igraph.Vertex(<igraph.Graph object at 0x107580d68>, 3, {'name': 'Benjamin', 'age': 47, 'gender': 'm'})]"
      ]
     },
     "execution_count": 3,
     "metadata": {},
     "output_type": "execute_result"
    }
   ],
   "source": [
    "#creating 4 vertices\n",
    "g.add_vertices(4)\n",
    "\n",
    "#we now have a vertex sequence\n",
    "print(g.vs)\n",
    "print('\\n')\n",
    "\n",
    "#Adding attributes to the vertices\n",
    "play_names = [\"Alice\", \"Bob\", \"Claire\", \"Benjamin\"]\n",
    "play_ages = [25, 31, 18, 47]\n",
    "play_genders = [\"f\", \"m\", \"f\", \"m\"]\n",
    "g.vs[\"name\"] =  play_names\n",
    "g.vs[\"age\"] = play_ages\n",
    "g.vs[\"gender\"] = play_genders\n",
    "\n",
    "#vertex sequences are essentially lists\n",
    "[v for v in g.vs]"
   ]
  },
  {
   "cell_type": "markdown",
   "metadata": {},
   "source": [
    "The vertex object contains:\n",
    "1. The graph it belongs to\n",
    "2. Its index\n",
    "3. A dictionary that contains its attributes"
   ]
  },
  {
   "cell_type": "markdown",
   "metadata": {},
   "source": [
    "### Adding edges to connect the vertices"
   ]
  },
  {
   "cell_type": "code",
   "execution_count": 4,
   "metadata": {},
   "outputs": [
    {
     "name": "stdout",
     "output_type": "stream",
     "text": [
      "<igraph.EdgeSeq object at 0x106768fc0>\n",
      "\n",
      "\n"
     ]
    },
    {
     "data": {
      "text/plain": [
       "[igraph.Edge(<igraph.Graph object at 0x107580d68>, 0, {'friendship_strength': 2}),\n",
       " igraph.Edge(<igraph.Graph object at 0x107580d68>, 1, {'friendship_strength': 3}),\n",
       " igraph.Edge(<igraph.Graph object at 0x107580d68>, 2, {'friendship_strength': 1})]"
      ]
     },
     "execution_count": 4,
     "metadata": {},
     "output_type": "execute_result"
    }
   ],
   "source": [
    "#creating 3 edges by providing list of vertex pairs\n",
    "g.add_edges([(0, 1), \n",
    "             (0, 2), \n",
    "             (2, 3)])\n",
    "\n",
    "#We now have an edge sequence\n",
    "print(g.es)\n",
    "print('\\n')\n",
    "\n",
    "#adding attributes to the edge sequence\n",
    "g.es[\"friendship_strength\"] = [2, 3, 1]\n",
    "\n",
    "#edge sequences are essentially lists\n",
    "[e for e in g.es]"
   ]
  },
  {
   "cell_type": "markdown",
   "metadata": {},
   "source": [
    "The edge object contains:\n",
    "1. The graph it belongs to\n",
    "2. Its index\n",
    "3. A dictionary that contains its attributes"
   ]
  },
  {
   "cell_type": "markdown",
   "metadata": {},
   "source": [
    "While not shown explicitly, edges have source and target methods that return vertex indices "
   ]
  },
  {
   "cell_type": "code",
   "execution_count": 5,
   "metadata": {},
   "outputs": [
    {
     "data": {
      "text/plain": [
       "[0, 0, 2]"
      ]
     },
     "execution_count": 5,
     "metadata": {},
     "output_type": "execute_result"
    }
   ],
   "source": [
    "#pulling the source nodes\n",
    "[e.source for e in g.es]"
   ]
  },
  {
   "cell_type": "code",
   "execution_count": 6,
   "metadata": {},
   "outputs": [
    {
     "data": {
      "text/plain": [
       "[igraph.Vertex(<igraph.Graph object at 0x107580d68>, 1, {'name': 'Bob', 'age': 31, 'gender': 'm'}),\n",
       " igraph.Vertex(<igraph.Graph object at 0x107580d68>, 2, {'name': 'Claire', 'age': 18, 'gender': 'f'}),\n",
       " igraph.Vertex(<igraph.Graph object at 0x107580d68>, 3, {'name': 'Benjamin', 'age': 47, 'gender': 'm'})]"
      ]
     },
     "execution_count": 6,
     "metadata": {},
     "output_type": "execute_result"
    }
   ],
   "source": [
    "#pulling the vertex object from target nodes\n",
    "[g.vs(e.target)[0] for e in g.es]"
   ]
  },
  {
   "cell_type": "markdown",
   "metadata": {},
   "source": [
    "### Understanding the graph"
   ]
  },
  {
   "cell_type": "code",
   "execution_count": 7,
   "metadata": {},
   "outputs": [
    {
     "name": "stdout",
     "output_type": "stream",
     "text": [
      "IGRAPH UN-- 4 3 -- Hello World Graph\n",
      "+ attr: info (g), name (g), age (v), gender (v), name (v), friendship_strength\n",
      "  (e)\n",
      "+ edges (vertex names):\n",
      "Alice--Bob, Alice--Claire, Claire--Benjamin\n"
     ]
    }
   ],
   "source": [
    "#printing a graph gives you some an overview of it\n",
    "print(g)"
   ]
  },
  {
   "cell_type": "markdown",
   "metadata": {},
   "source": [
    "The igraph print provides you with:\n",
    "\n",
    "1. A summary of the graph object\n",
    "    * Whether the edges are (**D**)irected or (**U**)ndirected\n",
    "    * If the nodes are (**N**)amed\n",
    "    * If the edges are (**W**)eighted\n",
    "    * If it has a (**T**)ype (for bipartite graphs)\n",
    "    * The number of nodes\n",
    "    * The number of edges\n",
    "    * The name of the graph\n",
    "2. Attributes of the (**g**)raph, (**v**)ertices, and (**e**)dges\n",
    "3. The first few edges in the edge lsit."
   ]
  },
  {
   "cell_type": "code",
   "execution_count": 8,
   "metadata": {},
   "outputs": [
    {
     "name": "stdout",
     "output_type": "stream",
     "text": [
      "IGRAPH UN-- 4 3 -- Hello World Graph\n",
      "+ attr: info (g), name (g), age (v), gender (v), name (v), friendship_strength (e)\n"
     ]
    }
   ],
   "source": [
    "#if you just want the summary and attributes\n",
    "igraph.summary(g)"
   ]
  },
  {
   "cell_type": "markdown",
   "metadata": {},
   "source": [
    "### Editing the graph\n",
    "\n",
    "If we delete all the edges, we have a null graph"
   ]
  },
  {
   "cell_type": "code",
   "execution_count": 9,
   "metadata": {},
   "outputs": [
    {
     "name": "stdout",
     "output_type": "stream",
     "text": [
      "IGRAPH UN-- 0 0 -- Hello World Graph\n",
      "+ attr: info (g), name (g), age (v), gender (v), name (v), friendship_strength\n",
      "  (e)\n"
     ]
    }
   ],
   "source": [
    "#delete edges or vertices by providing a list of edge indices to delete\n",
    "g.delete_vertices([0,1,2,3])\n",
    "g.delete_edges(range(0, g.ecount()))\n",
    "print(g)"
   ]
  },
  {
   "cell_type": "markdown",
   "metadata": {},
   "source": [
    "We can rebuild the edges"
   ]
  },
  {
   "cell_type": "code",
   "execution_count": 10,
   "metadata": {},
   "outputs": [
    {
     "data": {
      "text/plain": [
       "[{'friendship_strength': None, 'ref': 'Alice_Bob'},\n",
       " {'friendship_strength': None, 'ref': 'Alice_Claire'},\n",
       " {'friendship_strength': None, 'ref': 'Claire_Benjamin'}]"
      ]
     },
     "execution_count": 10,
     "metadata": {},
     "output_type": "execute_result"
    }
   ],
   "source": [
    "#II you're working on a named graph, thne a list of names will work in place of a number of vertices\n",
    "g.add_vertices(play_names)\n",
    "g.vs[\"age\"] = play_ages\n",
    "g.vs[\"gender\"] = play_genders\n",
    "\n",
    "#If you're working on a named graph, then a list of named pairs will work in place of the indices\n",
    "g.add_edges([(play_names[0],play_names[1]),\n",
    "             (play_names[0],play_names[2]),\n",
    "             (play_names[2],play_names[3])])\n",
    "\n",
    "\n",
    "g.es[\"ref\"] = [str(g.vs(e.source)['name'][0])+ \n",
    "               \"_\" + \n",
    "               str(g.vs(e.target)['name'][0]) for e in g.es]\n",
    "\n",
    "#the attributes method pulls only the edge/vertex attributles\n",
    "[e.attributes() for e in g.es]"
   ]
  },
  {
   "cell_type": "code",
   "execution_count": 11,
   "metadata": {},
   "outputs": [
    {
     "data": {
      "text/plain": [
       "[{'ref': 'Alice_Bob'}, {'ref': 'Alice_Claire'}, {'ref': 'Claire_Benjamin'}]"
      ]
     },
     "execution_count": 11,
     "metadata": {},
     "output_type": "execute_result"
    }
   ],
   "source": [
    "#if you want to remove an attribute, then the del function works\n",
    "del g.es[\"friendship_strength\"]\n",
    "\n",
    "[e.attributes() for e in g.es]"
   ]
  },
  {
   "cell_type": "markdown",
   "metadata": {},
   "source": [
    "## 3. Querying the graph"
   ]
  },
  {
   "cell_type": "markdown",
   "metadata": {},
   "source": [
    "Vertices and edges can by using the **select** method. It filters down the vertex or edge sequence to match the variable with the provided parameter "
   ]
  },
  {
   "cell_type": "code",
   "execution_count": 12,
   "metadata": {},
   "outputs": [
    {
     "data": {
      "text/plain": [
       "[{'name': 'Claire', 'age': 18, 'gender': 'f'}]"
      ]
     },
     "execution_count": 12,
     "metadata": {},
     "output_type": "execute_result"
    }
   ],
   "source": [
    "#select method accepts \n",
    "Claire = g.vs.select(name = \"Claire\")\n",
    "[v.attributes() for v in Claire]"
   ]
  },
  {
   "cell_type": "markdown",
   "metadata": {},
   "source": [
    "If we want a bolean operation (not a direct match), then we need to append the following to the attribute we are querying for:\n",
    "\n",
    "* **eq:** equal to\n",
    "* **ne:** not equal to\n",
    "* **lt:** less than\n",
    "* **gt:** greater than\n",
    "* **le:** less than or equal to\n",
    "* **ge:** greater than or equal to\n",
    "* **in:** checks if the value of an attribute is in a given list\n",
    "* **notin:** checks if the value of an attribute is not in a given list\n"
   ]
  },
  {
   "cell_type": "code",
   "execution_count": 13,
   "metadata": {},
   "outputs": [
    {
     "name": "stdout",
     "output_type": "stream",
     "text": [
      "'teen' vertices\n",
      "[{'name': 'Claire', 'age': 18, 'gender': 'f'}]\n",
      "\n",
      "'Alice_Bob' vertices\n",
      "[{'name': 'Alice', 'age': 25, 'gender': 'f'}, {'name': 'Bob', 'age': 31, 'gender': 'm'}]\n"
     ]
    }
   ],
   "source": [
    "teen = g.vs.select(age_lt = 20)\n",
    "print(\"'teen' vertices\")\n",
    "print([v.attributes() for v in teen])\n",
    "\n",
    "Alice_Bob = g.vs.select(name_in = ['Bob', 'Alice'])\n",
    "print(\"\\n'Alice_Bob' vertices\")\n",
    "print([v.attributes() for v in Alice_Bob])"
   ]
  },
  {
   "cell_type": "markdown",
   "metadata": {},
   "source": [
    "Edge sequences have additional boolean parameters:\n",
    "* **_source_in** or {**_from_in**} means the source vertex of an edge.\n",
    "* **_target_in** or {**_to_in**} means the target vertex of an edge.\n",
    "* **_within** ignores the operator and checks whether both endpoints of the edge lie within a specified set.\n",
    "* **_between** ignores the operator and checks whether one endpoint of the edge lies within a specified set and the other endpoint lies within another specified set. The two sets must be given as a tuple. "
   ]
  },
  {
   "cell_type": "code",
   "execution_count": 14,
   "metadata": {},
   "outputs": [
    {
     "name": "stdout",
     "output_type": "stream",
     "text": [
      "For '_source_in' we want edges that start with the following indices: [2]\n",
      "\n"
     ]
    },
    {
     "data": {
      "text/plain": [
       "[{'ref': 'Claire_Benjamin'}]"
      ]
     },
     "execution_count": 14,
     "metadata": {},
     "output_type": "execute_result"
    }
   ],
   "source": [
    "print(\"For '_source_in' we want edges that start with the following indices: \" + str(Claire.indices) + '\\n')\n",
    "\n",
    "[e.attributes() for e in g.es.select(_source_in = Claire.indices)]"
   ]
  },
  {
   "cell_type": "code",
   "execution_count": 15,
   "metadata": {},
   "outputs": [
    {
     "name": "stdout",
     "output_type": "stream",
     "text": [
      "For '_target_in' we want edges that start with the following indices: [2]\n",
      "\n"
     ]
    },
    {
     "data": {
      "text/plain": [
       "[{'ref': 'Alice_Claire'}]"
      ]
     },
     "execution_count": 15,
     "metadata": {},
     "output_type": "execute_result"
    }
   ],
   "source": [
    "print(\"For '_target_in' we want edges that start with the following indices: \" + str(Claire.indices) + '\\n')\n",
    "\n",
    "[e.attributes() for e in g.es.select(_target_in = Claire.indices)]"
   ]
  },
  {
   "cell_type": "code",
   "execution_count": 16,
   "metadata": {},
   "outputs": [
    {
     "name": "stdout",
     "output_type": "stream",
     "text": [
      "For '_between' we want edges between indices within the following two list: [2] & [0, 1, 2, 3]\n",
      "\n"
     ]
    },
    {
     "data": {
      "text/plain": [
       "[{'ref': 'Alice_Claire'}, {'ref': 'Claire_Benjamin'}]"
      ]
     },
     "execution_count": 16,
     "metadata": {},
     "output_type": "execute_result"
    }
   ],
   "source": [
    "print(\"For '_between' we want edges between indices within the following two list: \" +\n",
    "      str(Claire.indices) + \n",
    "      \" & \" + \n",
    "      str(g.vs.indices) +\n",
    "      \"\\n\"\n",
    "     )\n",
    "\n",
    "[e.attributes() for e in g.es.select(_between = (Claire.indices, g.vs.indices) )]"
   ]
  },
  {
   "cell_type": "code",
   "execution_count": 17,
   "metadata": {},
   "outputs": [
    {
     "name": "stdout",
     "output_type": "stream",
     "text": [
      "For '_within' we want edges between the following indices: [0, 1]\n",
      "\n"
     ]
    },
    {
     "data": {
      "text/plain": [
       "[{'ref': 'Alice_Bob'}]"
      ]
     },
     "execution_count": 17,
     "metadata": {},
     "output_type": "execute_result"
    }
   ],
   "source": [
    "print(\"For '_within' we want edges between the following indices: \" + str(Alice_Bob.indices) + '\\n')\n",
    "\n",
    "[e.attributes() for e in g.es.select(_within = Alice_Bob.indices)]"
   ]
  },
  {
   "cell_type": "markdown",
   "metadata": {},
   "source": [
    "the **incident** method provides all the edges attached to a particular node."
   ]
  },
  {
   "cell_type": "code",
   "execution_count": 18,
   "metadata": {},
   "outputs": [
    {
     "name": "stdout",
     "output_type": "stream",
     "text": [
      "The following indices belong to edges connected to Claire: [1, 2]\n"
     ]
    },
    {
     "data": {
      "text/plain": [
       "[igraph.Edge(<igraph.Graph object at 0x107580d68>, 1, {'ref': 'Alice_Claire'}),\n",
       " igraph.Edge(<igraph.Graph object at 0x107580d68>, 2, {'ref': 'Claire_Benjamin'})]"
      ]
     },
     "execution_count": 18,
     "metadata": {},
     "output_type": "execute_result"
    }
   ],
   "source": [
    "Claires_Connections = g.incident(Claire.indices[0])\n",
    "print(\"The following indices belong to edges connected to Claire: \" + str(Claires_Connections))\n",
    "\n",
    "[e for e in g.es[Claires_Connections]]"
   ]
  },
  {
   "cell_type": "markdown",
   "metadata": {},
   "source": [
    "the **neighborhood** method pfovides all the nodes surrounding a particular node"
   ]
  },
  {
   "cell_type": "code",
   "execution_count": 19,
   "metadata": {},
   "outputs": [
    {
     "name": "stdout",
     "output_type": "stream",
     "text": [
      "The following indices belong to nodes within Claire's Neighborhood: [2, 0, 3]\n"
     ]
    },
    {
     "data": {
      "text/plain": [
       "[igraph.Vertex(<igraph.Graph object at 0x107580d68>, 2, {'name': 'Claire', 'age': 18, 'gender': 'f'}),\n",
       " igraph.Vertex(<igraph.Graph object at 0x107580d68>, 0, {'name': 'Alice', 'age': 25, 'gender': 'f'}),\n",
       " igraph.Vertex(<igraph.Graph object at 0x107580d68>, 3, {'name': 'Benjamin', 'age': 47, 'gender': 'm'})]"
      ]
     },
     "execution_count": 19,
     "metadata": {},
     "output_type": "execute_result"
    }
   ],
   "source": [
    "Claires_Neighborhood = g.neighborhood(vertices=Claire.indices[0], order=1, mode = 'all')\n",
    "print(\"The following indices belong to nodes within Claire's Neighborhood: \" + str(Claires_Neighborhood))\n",
    "\n",
    "[v for v in g.vs[Claires_Neighborhood]]"
   ]
  },
  {
   "cell_type": "markdown",
   "metadata": {},
   "source": [
    "Also, because the Vertex and Edge sequences are iterable, they can also be **filtered** and **mapped** in the same way that lists can."
   ]
  },
  {
   "cell_type": "code",
   "execution_count": 20,
   "metadata": {},
   "outputs": [
    {
     "data": {
      "text/plain": [
       "[{'ref': 'Alice_Bob'}, {'ref': 'Alice_Claire'}]"
      ]
     },
     "execution_count": 20,
     "metadata": {},
     "output_type": "execute_result"
    }
   ],
   "source": [
    "from re import match\n",
    "\n",
    "[e.attributes() for e in filter(lambda x: match('Alice', x['ref']), g.es)]"
   ]
  },
  {
   "cell_type": "markdown",
   "metadata": {},
   "source": [
    "# 4. Co-Occurance Network (working with bipartite graphs)"
   ]
  },
  {
   "cell_type": "code",
   "execution_count": 21,
   "metadata": {},
   "outputs": [
    {
     "data": {
      "text/html": [
       "<div>\n",
       "<style scoped>\n",
       "    .dataframe tbody tr th:only-of-type {\n",
       "        vertical-align: middle;\n",
       "    }\n",
       "\n",
       "    .dataframe tbody tr th {\n",
       "        vertical-align: top;\n",
       "    }\n",
       "\n",
       "    .dataframe thead th {\n",
       "        text-align: right;\n",
       "    }\n",
       "</style>\n",
       "<table border=\"1\" class=\"dataframe\">\n",
       "  <thead>\n",
       "    <tr style=\"text-align: right;\">\n",
       "      <th></th>\n",
       "      <th>name</th>\n",
       "      <th>films</th>\n",
       "    </tr>\n",
       "  </thead>\n",
       "  <tbody>\n",
       "    <tr>\n",
       "      <th>0</th>\n",
       "      <td>Luke Skywalker</td>\n",
       "      <td>Revenge of the Sith</td>\n",
       "    </tr>\n",
       "    <tr>\n",
       "      <th>1</th>\n",
       "      <td>Luke Skywalker</td>\n",
       "      <td>Return of the Jedi</td>\n",
       "    </tr>\n",
       "    <tr>\n",
       "      <th>2</th>\n",
       "      <td>Luke Skywalker</td>\n",
       "      <td>The Empire Strikes Back</td>\n",
       "    </tr>\n",
       "    <tr>\n",
       "      <th>3</th>\n",
       "      <td>Luke Skywalker</td>\n",
       "      <td>A New Hope</td>\n",
       "    </tr>\n",
       "    <tr>\n",
       "      <th>4</th>\n",
       "      <td>Luke Skywalker</td>\n",
       "      <td>The Force Awakens</td>\n",
       "    </tr>\n",
       "  </tbody>\n",
       "</table>\n",
       "</div>"
      ],
      "text/plain": [
       "             name                    films\n",
       "0  Luke Skywalker      Revenge of the Sith\n",
       "1  Luke Skywalker       Return of the Jedi\n",
       "2  Luke Skywalker  The Empire Strikes Back\n",
       "3  Luke Skywalker               A New Hope\n",
       "4  Luke Skywalker        The Force Awakens"
      ]
     },
     "execution_count": 21,
     "metadata": {},
     "output_type": "execute_result"
    }
   ],
   "source": [
    "import pandas as pd\n",
    "sw = pd.read_csv('char_film_starwars.csv')\n",
    "sw.head()"
   ]
  },
  {
   "cell_type": "code",
   "execution_count": 22,
   "metadata": {},
   "outputs": [
    {
     "data": {
      "text/plain": [
       "['Gregar Typho', 'R2-D2', 'Plo Koon', 'Dexter Jettster', 'Qui-Gon Jinn']"
      ]
     },
     "execution_count": 22,
     "metadata": {},
     "output_type": "execute_result"
    }
   ],
   "source": [
    "\n",
    "nl = list(set(sw['name'])) + list(set(sw['films']))\n",
    "nl[0:5]"
   ]
  },
  {
   "cell_type": "code",
   "execution_count": 23,
   "metadata": {},
   "outputs": [
    {
     "data": {
      "text/plain": [
       "[('Luke Skywalker', 'Revenge of the Sith'),\n",
       " ('Luke Skywalker', 'Return of the Jedi'),\n",
       " ('Luke Skywalker', 'The Empire Strikes Back'),\n",
       " ('Luke Skywalker', 'A New Hope'),\n",
       " ('Luke Skywalker', 'The Force Awakens')]"
      ]
     },
     "execution_count": 23,
     "metadata": {},
     "output_type": "execute_result"
    }
   ],
   "source": [
    "el = list(zip(sw['name'], sw[\"films\"]))\n",
    "el[0:5]"
   ]
  },
  {
   "cell_type": "code",
   "execution_count": 24,
   "metadata": {},
   "outputs": [
    {
     "name": "stdout",
     "output_type": "stream",
     "text": [
      "[True, True, True, True, True, True, True, True, True, True, True, True, True, True, True, True, True, True, True, True, True, True, True, True, True, True, True, True, True, True, True, True, True, True, True, True, True, True, True, True, True, True, True, True, True, True, True, True, True, True, True, True, True, True, True, True, True, True, True, True, True, True, True, True, True, True, True, True, True, True, True, True, True, True, True, True, True, True, True, True, True, True, True, True, True, True, True, False, False, False, False, False, False, False]\n"
     ]
    }
   ],
   "source": [
    "sw_g = igraph.Graph()\n",
    "sw_g.add_vertices(nl)\n",
    "\n",
    "#we want to make a bipartite graph where one type is \"Character\" and the other is \"Movie\"\n",
    "#for projection purposes we need to represent these as a boolean\n",
    "sw_g.vs['type'] = [(n in list(sw['name'])) for n in sw_g.vs['name']]\n",
    "print(sw_g.vs['type'])"
   ]
  },
  {
   "cell_type": "code",
   "execution_count": 25,
   "metadata": {},
   "outputs": [
    {
     "name": "stdout",
     "output_type": "stream",
     "text": [
      "IGRAPH UN-T 94 173 -- \n",
      "+ attr: name (v), type (v)\n"
     ]
    }
   ],
   "source": [
    "sw_g.add_edges(el)\n",
    "igraph.summary(sw_g)"
   ]
  },
  {
   "cell_type": "code",
   "execution_count": 26,
   "metadata": {},
   "outputs": [
    {
     "name": "stdout",
     "output_type": "stream",
     "text": [
      "IGRAPH UNWT 7 21 -- Film Projection\n",
      "+ attr: info (g), name (g), name (v), type (v), weight (e)\n",
      "IGRAPH UNWT 87 1793 -- Character Projection\n",
      "+ attr: info (g), name (g), name (v), type (v), weight (e)\n"
     ]
    }
   ],
   "source": [
    "#the False projection gets evaluated first, then the true projection\n",
    "sw_films, sw_char = sw_g.bipartite_projection()\n",
    "sw_films['name'] = \"Film Projection\"\n",
    "sw_films['info'] = \"Vertices are Star Wars films.\\nEdge weights are number of characters shared between films.\"\n",
    "\n",
    "sw_char['name'] = \"Character Projection\"\n",
    "sw_char['info'] = \"Vertices are characters in the Star Wars Universe.\\nEdge weights are number of films shared between characters\"\n",
    "igraph.summary(sw_films)\n",
    "igraph.summary(sw_char)"
   ]
  },
  {
   "cell_type": "code",
   "execution_count": 27,
   "metadata": {},
   "outputs": [
    {
     "name": "stdout",
     "output_type": "stream",
     "text": [
      "[9, 10, 5, 11, 5, 4, 13, 6, 9, 5, 5, 6, 9, 6, 6, 22, 1, 17, 4, 16, 1]\n"
     ]
    }
   ],
   "source": [
    "print(sw_films.es['weight'])"
   ]
  },
  {
   "cell_type": "markdown",
   "metadata": {},
   "source": [
    "Sometimes it's important to retain information from the original dataset and use it in the projected graph"
   ]
  },
  {
   "cell_type": "code",
   "execution_count": 28,
   "metadata": {},
   "outputs": [
    {
     "name": "stdout",
     "output_type": "stream",
     "text": [
      "[1, 7, 3, 1, 1, 1, 3, 2, 5, 1, 1, 2, 1, 6, 2, 4, 1, 2, 2, 1, 1, 2, 3, 1, 1, 1, 1, 2, 5, 2, 1, 1, 5, 1, 4, 1, 1, 1, 1, 2, 1, 3, 1, 1, 3, 2, 1, 1, 2, 3, 1, 1, 1, 3, 5, 3, 2, 3, 1, 1, 2, 3, 1, 1, 5, 2, 2, 2, 2, 1, 3, 1, 6, 1, 1, 1, 1, 1, 2, 1, 3, 1, 1, 1, 3, 1, 1]\n"
     ]
    }
   ],
   "source": [
    "from collections import Counter\n",
    "char_dict = Counter(sw['name'])\n",
    "\n",
    "#we can use dictionaries to transfer information from the original starwars data to the bipartite graph\n",
    "#print(char_dict['R2-D2'])\n",
    "\n",
    "sw_char.vs['tot_movies'] = [char_dict[n] for n in sw_char.vs['name']]\n",
    "print(sw_char.vs['tot_movies'])"
   ]
  },
  {
   "cell_type": "markdown",
   "metadata": {},
   "source": [
    "Some really interesting analysis can be done by storing information from the vertices in the edges"
   ]
  },
  {
   "cell_type": "code",
   "execution_count": 29,
   "metadata": {},
   "outputs": [
    {
     "data": {
      "text/plain": [
       "[{'weight': 5,\n",
       "  'from_name': 'R2-D2',\n",
       "  'from_tot_movies': 7,\n",
       "  'from_perc_movies': 0.7142857142857143,\n",
       "  'to_name': 'Luke Skywalker',\n",
       "  'to_tot_movies': 5,\n",
       "  'to_perc_movies': 1.0},\n",
       " {'weight': 6,\n",
       "  'from_name': 'R2-D2',\n",
       "  'from_tot_movies': 7,\n",
       "  'from_perc_movies': 0.8571428571428571,\n",
       "  'to_name': 'C-3PO',\n",
       "  'to_tot_movies': 6,\n",
       "  'to_perc_movies': 1.0},\n",
       " {'weight': 4,\n",
       "  'from_name': 'R2-D2',\n",
       "  'from_tot_movies': 7,\n",
       "  'from_perc_movies': 0.5714285714285714,\n",
       "  'to_name': 'Han Solo',\n",
       "  'to_tot_movies': 4,\n",
       "  'to_perc_movies': 1.0},\n",
       " {'weight': 5,\n",
       "  'from_name': 'R2-D2',\n",
       "  'from_tot_movies': 7,\n",
       "  'from_perc_movies': 0.7142857142857143,\n",
       "  'to_name': 'Chewbacca',\n",
       "  'to_tot_movies': 5,\n",
       "  'to_perc_movies': 1.0},\n",
       " {'weight': 4,\n",
       "  'from_name': 'R2-D2',\n",
       "  'from_tot_movies': 7,\n",
       "  'from_perc_movies': 0.5714285714285714,\n",
       "  'to_name': 'Darth Vader',\n",
       "  'to_tot_movies': 4,\n",
       "  'to_perc_movies': 1.0}]"
      ]
     },
     "execution_count": 29,
     "metadata": {},
     "output_type": "execute_result"
    }
   ],
   "source": [
    "sw_char.es['from_name'] = [sw_char.vs[e.source]['name'] for e in sw_char.es]\n",
    "sw_char.es[\"from_tot_movies\"] = [sw_char.vs[e.source]['tot_movies'] for e in sw_char.es]\n",
    "sw_char.es['from_perc_movies'] = [e[\"weight\"]/e[\"from_tot_movies\"] for e in sw_char.es]\n",
    "sw_char.es['to_name'] = [sw_char.vs[e.target]['name'] for e in sw_char.es]\n",
    "sw_char.es[\"to_tot_movies\"] = [sw_char.vs[e.target]['tot_movies'] for e in sw_char.es]\n",
    "sw_char.es['to_perc_movies'] = [e[\"weight\"]/e[\"to_tot_movies\"] for e in sw_char.es]\n",
    "\n",
    "\n",
    "[e.attributes() for e in sw_char.es.select(weight_gt = 3)][0:5]"
   ]
  },
  {
   "cell_type": "code",
   "execution_count": null,
   "metadata": {},
   "outputs": [],
   "source": []
  },
  {
   "cell_type": "code",
   "execution_count": null,
   "metadata": {},
   "outputs": [],
   "source": []
  }
 ],
 "metadata": {
  "kernelspec": {
   "display_name": "Python 3",
   "language": "python",
   "name": "python3"
  },
  "language_info": {
   "codemirror_mode": {
    "name": "ipython",
    "version": 3
   },
   "file_extension": ".py",
   "mimetype": "text/x-python",
   "name": "python",
   "nbconvert_exporter": "python",
   "pygments_lexer": "ipython3",
   "version": "3.6.5"
  }
 },
 "nbformat": 4,
 "nbformat_minor": 2
}
